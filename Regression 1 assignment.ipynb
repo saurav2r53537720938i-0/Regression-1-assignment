{
 "cells": [
  {
   "cell_type": "markdown",
   "id": "5f8c3415-df8a-409b-bcd1-05fa4db06283",
   "metadata": {},
   "source": [
    "Simple Linear Regression involves predicting a dependent variable,while Multiple Linear Regression involves based on two or more indpendent variable.Example of simple linear regression suppose you want to predict the sales of a product based on adversting.Example of Multiple linear regression lett say you want to prdecit the price of a house \n",
    "based on factor such as the size of the house the number of bedrooms and the location in this case the indpendent variable"
   ]
  },
  {
   "cell_type": "markdown",
   "id": "6247d13e-6643-4964-8f69-3efdbe2feaf7",
   "metadata": {},
   "source": [
    "Absorption in linear regression refers to the phenomenon where one of the prdecitor variable in a multiple regression model absorbs the effect of another predictor variable ,resulting in inflated standard error and potentially biased estimate This typically occurs when there is high correlation between prdictor variable.\n",
    "To check whether absorption holds in a given dataset:\n",
    "1. Correlation Analysis\n",
    "2. Variance Inflation Factor\n",
    "3. Partial Regression Plots\n",
    "4. Residual Analysis\n",
    "5. Domain Knowldge"
   ]
  },
  {
   "cell_type": "markdown",
   "id": "3bdb85d7-c4f3-4419-8041-749745957c60",
   "metadata": {},
   "source": [
    "In a linear regression model of the form(y = mx+c),where(y) is the dependent variable,(m) is the slope,and(c) is the intercept:\n",
    "* The slope(m) represent the change in the dependent variable for a one-unit change in the indpendent variable the rate of change of the dependent variable with respect to the indpendent varaiable"
   ]
  },
  {
   "cell_type": "markdown",
   "id": "ca4faeaa-3e3c-4fe8-9c28-108b9851dc3d",
   "metadata": {},
   "source": [
    "Gradient descent is an optimization alogarthim used to minimize the cost function in machine learning models.it works by iteratively updating the parameters of a model in the opposite direction of the gradient of the cost function with respect to those parametrs this process continues until the alogarthim converge to a local minimum of the cost function indciating that the model parameters.In simple terms,imagine you are on a mountain and want to find the lowest point.you take a step downhill in the steepest direction.You repeats this process until you cant descend any further in machine learning the mountain is the cost function and the height reprsent the error between \n",
    "the model prediction and the actual data."
   ]
  },
  {
   "cell_type": "markdown",
   "id": "1ce16d89-5b5f-4ec0-9f03-98f9923b4d5e",
   "metadata": {},
   "source": [
    "A multiple layer regression model often reffred to as a multiplayer perception(MLP),is a type of neural network architecture consisting of multiple layers of neurons including an input model eaach neuron in the input layer reprsent a feature of the input data and the output layer typically produces continous valued prediction.The hidden \n",
    "layers which may vary."
   ]
  },
  {
   "cell_type": "markdown",
   "id": "d3a961a4-37eb-43d7-9a71-8fb70458051c",
   "metadata": {},
   "source": [
    "Multicollinearity refers to a situation in multiple linear regression where two or more predictor variable are highly correlated it becomes diffcult for the model to estimate the unique contribution of each varaible are:\n",
    "1. Unreliable coffecient\n",
    "2. Difficulty in interpretation"
   ]
  },
  {
   "cell_type": "markdown",
   "id": "ce2ad513-f29f-4550-bef6-a8ae57f3cce9",
   "metadata": {},
   "source": [
    "Polynomial regression extends linear regression by introducing polynomial terms allowing it to capture nonlinear relationship between the predictor variable and the outcome variable "
   ]
  }
 ],
 "metadata": {
  "kernelspec": {
   "display_name": "Python 3 (ipykernel)",
   "language": "python",
   "name": "python3"
  },
  "language_info": {
   "codemirror_mode": {
    "name": "ipython",
    "version": 3
   },
   "file_extension": ".py",
   "mimetype": "text/x-python",
   "name": "python",
   "nbconvert_exporter": "python",
   "pygments_lexer": "ipython3",
   "version": "3.10.8"
  }
 },
 "nbformat": 4,
 "nbformat_minor": 5
}
